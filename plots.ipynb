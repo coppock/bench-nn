{
 "cells": [
  {
   "cell_type": "markdown",
   "metadata": {
    "vscode": {
     "languageId": "shellscript"
    }
   },
   "source": [
    "```sh\n",
    "ncu --section=SpeedOfLight -o$model sh -c \\\n",
    "    \"echo | trt/exec -s'\\\"input_tensor:0\\\":1x3x224x224' $model.engine\"\n",
    "ncu --csv -i$model.ncu-rep >$model.csv\n",
    "```"
   ]
  },
  {
   "cell_type": "code",
   "execution_count": 19,
   "metadata": {},
   "outputs": [
    {
     "data": {
      "text/plain": [
       "<Figure size 640x480 with 0 Axes>"
      ]
     },
     "metadata": {},
     "output_type": "display_data"
    }
   ],
   "source": [
    "import matplotlib.pyplot as plt\n",
    "import numpy as np\n",
    "\n",
    "import csv\n",
    "import locale\n",
    "\n",
    "locale.setlocale(locale.LC_ALL, '')\n",
    "\n",
    "for model in ['resnet', 'bert']:\n",
    "    durations = []\n",
    "    throughputs = []\n",
    "    with open(model + '.csv', newline='') as f:\n",
    "        reader = csv.DictReader(f)\n",
    "        for row in reader:\n",
    "            if row['Section Name'] != 'GPU Speed Of Light Throughput': continue\n",
    "            k = row['Metric Name']\n",
    "            v = locale.atof(row['Metric Value'])\n",
    "            if k == 'Duration':\n",
    "                durations.append(v)\n",
    "            if not k.endswith(' Throughput'): continue\n",
    "            i = int(row['ID'])\n",
    "            if len(throughputs) <= i:\n",
    "                throughputs.append([])\n",
    "                assert len(throughputs) > i\n",
    "            throughputs[i].append(v)\n",
    "    x = np.cumsum(np.array(durations))\n",
    "    labels = [\n",
    "        'memory',\n",
    "        'DRAM',\n",
    "        'L1/TEX cache',\n",
    "        'L2 cache',\n",
    "        'compute (SM)'\n",
    "    ]\n",
    "    plt.plot(x, np.array(throughputs), label=labels)\n",
    "    plt.title(model)\n",
    "    plt.legend()\n",
    "    plt.savefig(model + '.png')\n",
    "    plt.clf()"
   ]
  }
 ],
 "metadata": {
  "kernelspec": {
   "display_name": ".venv",
   "language": "python",
   "name": "python3"
  },
  "language_info": {
   "codemirror_mode": {
    "name": "ipython",
    "version": 3
   },
   "file_extension": ".py",
   "mimetype": "text/x-python",
   "name": "python",
   "nbconvert_exporter": "python",
   "pygments_lexer": "ipython3",
   "version": "3.10.12"
  }
 },
 "nbformat": 4,
 "nbformat_minor": 2
}
